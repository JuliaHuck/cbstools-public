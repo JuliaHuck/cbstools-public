{
 "cells": [
  {
   "cell_type": "code",
   "execution_count": 257,
   "metadata": {
    "collapsed": false
   },
   "outputs": [],
   "source": [
    "import cbstools as cbs\n",
    "from os.path import join\n",
    "import os\n",
    "import nibabel as nb\n",
    "import numpy as np\n",
    "import glob as glob\n",
    "import pandas as pd"
   ]
  },
  {
   "cell_type": "code",
   "execution_count": 258,
   "metadata": {
    "collapsed": false
   },
   "outputs": [
    {
     "name": "stdout",
     "output_type": "stream",
     "text": [
      "/home/chris/mipav/plugins/atlases/brain-segmentation-prior3.0/\n",
      "/home/chris/Documents/code/python/cbstools-python/ToloplogyLUT/\n"
     ]
    }
   ],
   "source": [
    "current_dir = os.getcwd() #current directy of this notebook\n",
    "\n",
    "data_dir='/home/chris/Documents/code/python/cbstools-python/test-python'\n",
    "out_dir='/home/chris/Documents/code/python/cbstools-python/test-python/out'\n",
    "\n",
    "t1_fname='t1map_stripped.nii.gz'\n",
    "uni_fname='uni_stripped.nii.gz'\n",
    "pre_fname='filters.nii.gz'\n",
    "\n",
    "atlas_file = 'brain-atlas-3.0.3.txt'\n",
    "\n",
    "print(cbs.ATLAS_DIR) #as defined in your defaults file\n",
    "print(cbs.TOPOLOGY_LUT_DIR)"
   ]
  },
  {
   "cell_type": "code",
   "execution_count": 3,
   "metadata": {
    "collapsed": false
   },
   "outputs": [
    {
     "name": "stdout",
     "output_type": "stream",
     "text": [
      "<jcc.JCCEnv object at 0x7f90127f2e10>\n",
      "Java virtual machine successfully started.\n"
     ]
    }
   ],
   "source": [
    "#cbs=reload(cbs)\n",
    "cbs.setup_JVM()"
   ]
  },
  {
   "cell_type": "code",
   "execution_count": 14,
   "metadata": {
    "collapsed": false,
    "scrolled": true
   },
   "outputs": [
    {
     "name": "stdout",
     "output_type": "stream",
     "text": [
      "Thank you for choosing the MGDM segmentation from the cbstools for your brain segmentation needs\n",
      "Sit back and relax, let the magic of algorithms happen...\n",
      "Atlas file: /home/chris/mipav/plugins/atlases/brain-segmentation-prior3.0/brain-atlas-3.0.3.txt\n",
      "Topology LUT durectory: /home/chris/Documents/code/python/cbstools-python/ToloplogyLUT/\n",
      "\n",
      "Input files and filetypes:\n",
      "  1  ['/home/chris/Documents/code/python/cbstools-python/test-python/uni_stripped.nii.gz', 'MP2RAGE7T']\n",
      "Executing MGDM on your inputs\n",
      "Don't worry, the magic is happening!\n",
      "/home/chris/Documents/code/python/cbstools-python/test-python/out/uni_stripped_seg_cjs.nii.gz\n",
      "Data stored in: /home/chris/Documents/code/python/cbstools-python/test-python/out\n",
      "Execution completed\n"
     ]
    }
   ],
   "source": [
    "cbs.MGDMBrainSegmentation([[join(data_dir,uni_fname),\"MP2RAGE7T\"]],\n",
    "                             output_dir=out_dir,atlas_file=None, topology_lut_dir=None)"
   ]
  },
  {
   "cell_type": "code",
   "execution_count": 15,
   "metadata": {
    "collapsed": false
   },
   "outputs": [
    {
     "name": "stdout",
     "output_type": "stream",
     "text": [
      "Thank you for choosing the MGDM segmentation from the cbstools for your brain segmentation needs\n",
      "Sit back and relax, let the magic of algorithms happen...\n",
      "\n",
      "Atlas file: /home/chris/mipav/plugins/atlases/brain-segmentation-prior3.0/brain-atlas-3.0.3.txt\n",
      "Topology LUT durectory: /home/chris/Documents/code/python/cbstools-python/ToloplogyLUT/\n",
      "\n",
      "Input files and filetypes:\n",
      "  1  ['/home/chris/Documents/code/python/cbstools-python/test-python/uni_stripped.nii.gz', 'MP2RAGE7T']\n",
      "Input files and filetypes:\n",
      "  2  ['/home/chris/Documents/code/python/cbstools-python/test-python/filters.nii.gz', 'Filters']\n",
      "Executing MGDM on your inputs\n",
      "Don't worry, the magic is happening!\n",
      "/home/chris/Documents/code/python/cbstools-python/test-python/out/uni_stripped_seg_cjs.nii.gz\n",
      "Data stored in: /home/chris/Documents/code/python/cbstools-python/test-python/out\n",
      "Execution completed\n"
     ]
    }
   ],
   "source": [
    "cbs=reload(cbs)\n",
    "cbs.MGDMBrainSegmentation([[join(data_dir,uni_fname),\"MP2RAGE7T\"],[join(data_dir,pre_fname),\"Filters\"]],\n",
    "                             output_dir=out_dir,atlas_file=None, topology_lut_dir=None)\n"
   ]
  },
  {
   "cell_type": "code",
   "execution_count": 487,
   "metadata": {
    "collapsed": false
   },
   "outputs": [],
   "source": [
    "def seg_erode(seg_d, iterations=1, background_idx = 1,\n",
    "              structure=None, min_vox_count = 5,seg_null_value = 0,\n",
    "             VERBOSE=False):\n",
    "    # erode indices (integers) to identify \"core\" structure\n",
    "    # XXX might need to limit erosion here and loop myself\n",
    "    # default erosion structure is 3,1 (which is not super restrictive, and should work for most)\n",
    "    # seg null value is int value that is assigned to voxels that were eroded from the segmentation\n",
    "    import scipy.ndimage as ndi\n",
    "    import numpy as np\n",
    "    \n",
    "    if structure is None:\n",
    "        structure = ndi.morphology.generate_binary_structure(3, 1)\n",
    "    if seg_null_value == 0:\n",
    "        seg_shrunk_d = np.zeros_like(seg_d)\n",
    "        temp_d = np.zeros_like(seg_d)\n",
    "    else:\n",
    "        seg_shrunk_d = np.ones_like(seg_d)*seg_null_value\n",
    "        temp_d = np.ones_like(seg_d)*seg_null_value    \n",
    "    \n",
    "    seg_idxs = np.unique(seg_d)\n",
    "  \n",
    "    for seg_idx in seg_idxs:\n",
    "        print(seg_idx),\n",
    "        if (background_idx is not None) and (background_idx == seg_idx):\n",
    "            seg_shrunk_d[seg_d==seg_idx] = seg_idx #just set the value to the bckgrnd value, and be done with it\n",
    "            if VERBOSE:\n",
    "                print(\"[bckg]\"),\n",
    "        else:\n",
    "            temp_d[seg_d==seg_idx] = 1\n",
    "            for idx in range(0, iterations): #messy, does not exit the loop when already gone too far.\n",
    "                temp_temp_d = ndi.binary_erosion(temp_d, iterations=1, structure=structure)\n",
    "                if np.sum(temp_temp_d) >= min_vox_count:\n",
    "                    temp_d = temp_temp_d\n",
    "                    if VERBOSE:\n",
    "                        print(\"[y]\"),\n",
    "                else:\n",
    "                    if VERBOSE:\n",
    "                        print(\"[no]\"),\n",
    "            seg_shrunk_d[temp_d==1] = seg_idx\n",
    "            temp_d[:,:,:] = seg_null_value\n",
    "            if VERBOSE:\n",
    "                print(seg_idx)\n",
    "    print(\"\")\n",
    "    return seg_shrunk_d\n",
    "\n",
    "\n",
    "\n",
    "def extract_metrics_from_seg(seg_d, metric_d, norm_data = True,\n",
    "                             background_idx = 1, seg_null_value = 0,\n",
    "                             percentile_top_bot = [75,25],\n",
    "                             return_normed_metric_d=False):\n",
    "    #returns np matrix of indices, and one of median, and percentiles\n",
    "    #norm_data = true first zscores all of the data other than the background\n",
    "    import numpy as np\n",
    "    import scipy\n",
    "    seg_idxs = np.unique(seg_d)\n",
    "    res = np.zeros((len(seg_idxs),3))\n",
    "    \n",
    "    if norm_data: # rescale the data to 0\n",
    "        if background_idx is not None: #we need to exclude the background data from the norming\n",
    "            metric_d[seg_d!=background_idx] = (metric_d[seg_d!=background_idx] - np.min(metric_d[seg_d!=background_idx])) / (np.max(metric_d[seg_d!=background_idx]) - np.min(metric_d[seg_d!=background_idx]))\n",
    "        else:\n",
    "            metric_d = (metric_d - np.min(metric_d)) / (np.max(metric_d)-np.min(metric_d))\n",
    "        \n",
    "    for idx,seg_idx in enumerate(seg_idxs):\n",
    "        if (background_idx is not None) and ((seg_idx == background_idx) or (seg_idx == seg_null_value)):\n",
    "            res[idx,:] = [0,0,0]\n",
    "        else:\n",
    "            d_1d = np.ndarray.flatten(metric_d[seg_d == seg_idx])\n",
    "            res[idx,:] = [np.mean(d_1d),\n",
    "                          np.percentile(d_1d,np.max(percentile_top_bot)),\n",
    "                          np.percentile(d_1d, np.min(percentile_top_bot))]\n",
    "    if return_normed_metric_d:\n",
    "        return seg_idxs,res,metric_d\n",
    "    else:\n",
    "        return seg_idxs,res"
   ]
  },
  {
   "cell_type": "code",
   "execution_count": 485,
   "metadata": {
    "collapsed": false
   },
   "outputs": [
    {
     "name": "stdout",
     "output_type": "stream",
     "text": [
      "seg indices: "
     ]
    },
    {
     "data": {
      "text/plain": [
       "(array([ 14,  14,  14, ..., 132, 132, 132]),\n",
       " array([ 86,  87,  87, ..., 103, 103, 103]),\n",
       " array([60, 51, 58, ..., 57, 58, 59]))"
      ]
     },
     "execution_count": 485,
     "metadata": {},
     "output_type": "execute_result"
    },
    {
     "name": "stdout",
     "output_type": "stream",
     "text": [
      "\n"
     ]
    }
   ],
   "source": [
    "# load the output segmentatinb.Nifti1Image(d_seg_ero,a_seg).to_filename(os.path.join(out_dir,\"d_seg_ero.nii.gz\"))on file\n",
    "seg_files = glob.glob(os.path.join(out_dir,\"*_seg_cjs.nii.gz\"))\n",
    "# point it back at the input file, extract values from \n",
    "seg_file=seg_files[0]\n",
    "img=nb.load(seg_file)\n",
    "d_seg = img.get_data()\n",
    "a_seg = img.affine\n",
    "\n",
    "d_metric = nb.load(join(data_dir,uni_fname)).get_data()\n",
    "seg_null_value = 0\n",
    "\n",
    "print(\"seg indices: \"),\n",
    "np.unique(d_seg)\n",
    "np.where(d_seg==50)\n",
    "#d_seg[70,66,43]"
   ]
  },
  {
   "cell_type": "code",
   "execution_count": 489,
   "metadata": {
    "collapsed": false
   },
   "outputs": [
    {
     "name": "stdout",
     "output_type": "stream",
     "text": [
      "1 8 10 11 12 13 14 17 18 20 25 26 27 30 31 32 33 34 35 36 37 38 39 40 41 43 46 47 48 50 \n"
     ]
    }
   ],
   "source": [
    "#erode the seg file\n",
    "d_seg_ero = seg_erode(d_seg,background_idx = 1, seg_null_value = seg_null_value)\n",
    "nb.Nifti1Image(d_seg_ero,a_seg).to_filename(os.path.join(out_dir,\"d_seg_ero.nii.gz\"))\n",
    "#extract the values from each index\n",
    "[seg_idxs,seg_stats,d_metric_norm] = extract_metrics_from_seg(d_seg_ero,d_metric,seg_null_value=seg_null_value,\n",
    "                                                             return_normed_metric_d=True)\n",
    "nb.Nifti1Image(d_metric_norm,a_seg).to_filename(os.path.join(out_dir,\"d_metric_norm.nii.gz\"))"
   ]
  },
  {
   "cell_type": "code",
   "execution_count": 495,
   "metadata": {
    "collapsed": false
   },
   "outputs": [
    {
     "data": {
      "text/plain": [
       "array([[ 0.68753362,  0.7565217 ,  0.62878868]])"
      ]
     },
     "execution_count": 495,
     "metadata": {},
     "output_type": "execute_result"
    }
   ],
   "source": [
    "seg_stats[seg_idxs==38]"
   ]
  },
  {
   "cell_type": "code",
   "execution_count": 460,
   "metadata": {
    "collapsed": false
   },
   "outputs": [
    {
     "name": "stdout",
     "output_type": "stream",
     "text": [
      "1759.36 1195.87\n"
     ]
    },
    {
     "data": {
      "text/plain": [
       "array([-1.47118962, -1.47118962, -1.47118962, ..., -1.47118962,\n",
       "       -1.47118962, -1.47118962], dtype=float32)"
      ]
     },
     "execution_count": 460,
     "metadata": {},
     "output_type": "execute_result"
    }
   ],
   "source": [
    "x=np.mean(d_metric[d_seg_ero!=1])\n",
    "sd=np.std(d_metric[d_seg_ero!=1])\n",
    "print x, sd\n",
    "(d_metric[d_seg_ero!=1]-x)/sd"
   ]
  },
  {
   "cell_type": "code",
   "execution_count": 370,
   "metadata": {
    "collapsed": false
   },
   "outputs": [],
   "source": [
    "\n",
    "lut_idx=np.zeros(2).astype(int)\n",
    "con_idx=np.zeros(2).astype(int)\n",
    "contrast_name = 'Mprage3T'\n",
    "\n",
    "#identify the start and stop locations for the LUT and the intensity priors of interest\n",
    "fp = open(os.path.join(cbs.ATLAS_DIR,atlas_file))\n",
    "for i, line in enumerate(fp):\n",
    "    if \"Structures:\" in line: #this is the beginning of the LUT\n",
    "        lut_idx[0] = i\n",
    "    if \"Topology Atlas:\" in line: #the end of the LUT\n",
    "        lut_idx[1] = i-2\n",
    "    if \"Intensity Prior:\" in line:\n",
    "        if contrast_name in line:\n",
    "            con_idx[0] = i\n",
    "fp.close()\n",
    "con_idx[1] = con_idx[0] + len(lut)\n",
    "lut=pd.read_csv(os.path.join(cbs.ATLAS_DIR,atlas_file),sep=\"\\t+\",\n",
    "                skiprows=lut_idx[0]+1,nrows=lut_idx[1]-lut_idx[0],engine='python',\n",
    "                names=[\"Index\",\"Type\"])\n",
    "\n",
    "con_idx[1] = len(lut) #total number is the same length as the lut\n",
    "priors=pd.read_csv(os.path.join(cbs.ATLAS_DIR,atlas_file),sep=\"\\t+\",\n",
    "                   skiprows=con_idx[0]+1,nrows=con_idx[1],engine='python',\n",
    "                   names=[\"Median\",\"Spread\",\"Weight\"])\n"
   ]
  },
  {
   "cell_type": "code",
   "execution_count": 360,
   "metadata": {
    "collapsed": false
   },
   "outputs": [
    {
     "data": {
      "text/plain": [
       "'0.00'"
      ]
     },
     "execution_count": 360,
     "metadata": {},
     "output_type": "execute_result"
    }
   ],
   "source": [
    "priors.Median['Background']"
   ]
  },
  {
   "cell_type": "code",
   "execution_count": 374,
   "metadata": {
    "collapsed": false
   },
   "outputs": [
    {
     "data": {
      "text/html": [
       "<div>\n",
       "<table border=\"1\" class=\"dataframe\">\n",
       "  <thead>\n",
       "    <tr style=\"text-align: right;\">\n",
       "      <th></th>\n",
       "      <th>Median</th>\n",
       "      <th>Spread</th>\n",
       "      <th>Weight</th>\n",
       "    </tr>\n",
       "  </thead>\n",
       "  <tbody>\n",
       "    <tr>\n",
       "      <th>Background</th>\n",
       "      <td>0.00</td>\n",
       "      <td>0.10</td>\n",
       "      <td>1</td>\n",
       "    </tr>\n",
       "    <tr>\n",
       "      <th>Dura</th>\n",
       "      <td>0.50</td>\n",
       "      <td>0.10</td>\n",
       "      <td>1</td>\n",
       "    </tr>\n",
       "    <tr>\n",
       "      <th>Arteries</th>\n",
       "      <td>0.95</td>\n",
       "      <td>0.10</td>\n",
       "      <td>1</td>\n",
       "    </tr>\n",
       "    <tr>\n",
       "      <th>Sulcal-CSF</th>\n",
       "      <td>0.18</td>\n",
       "      <td>0.15</td>\n",
       "      <td>1</td>\n",
       "    </tr>\n",
       "    <tr>\n",
       "      <th>VentricleL</th>\n",
       "      <td>0.23</td>\n",
       "      <td>0.20</td>\n",
       "      <td>1</td>\n",
       "    </tr>\n",
       "    <tr>\n",
       "      <th>VentricleR</th>\n",
       "      <td>0.23</td>\n",
       "      <td>0.20</td>\n",
       "      <td>1</td>\n",
       "    </tr>\n",
       "    <tr>\n",
       "      <th>Ventricle3</th>\n",
       "      <td>0.23</td>\n",
       "      <td>0.20</td>\n",
       "      <td>1</td>\n",
       "    </tr>\n",
       "    <tr>\n",
       "      <th>Ventricle4</th>\n",
       "      <td>0.23</td>\n",
       "      <td>0.20</td>\n",
       "      <td>1</td>\n",
       "    </tr>\n",
       "    <tr>\n",
       "      <th>ChoroidPlexusL</th>\n",
       "      <td>0.50</td>\n",
       "      <td>0.20</td>\n",
       "      <td>1</td>\n",
       "    </tr>\n",
       "    <tr>\n",
       "      <th>ChoroidPlexusR</th>\n",
       "      <td>0.50</td>\n",
       "      <td>0.20</td>\n",
       "      <td>1</td>\n",
       "    </tr>\n",
       "    <tr>\n",
       "      <th>Sinuses</th>\n",
       "      <td>0.50</td>\n",
       "      <td>0.20</td>\n",
       "      <td>1</td>\n",
       "    </tr>\n",
       "    <tr>\n",
       "      <th>Cerebellum-GM</th>\n",
       "      <td>0.59</td>\n",
       "      <td>0.20</td>\n",
       "      <td>1</td>\n",
       "    </tr>\n",
       "    <tr>\n",
       "      <th>Cerebrum-GML</th>\n",
       "      <td>0.53</td>\n",
       "      <td>0.20</td>\n",
       "      <td>1</td>\n",
       "    </tr>\n",
       "    <tr>\n",
       "      <th>Cerebrum-GMR</th>\n",
       "      <td>0.53</td>\n",
       "      <td>0.20</td>\n",
       "      <td>1</td>\n",
       "    </tr>\n",
       "    <tr>\n",
       "      <th>AmygdalaL</th>\n",
       "      <td>0.69</td>\n",
       "      <td>0.15</td>\n",
       "      <td>1</td>\n",
       "    </tr>\n",
       "    <tr>\n",
       "      <th>AmygdalaR</th>\n",
       "      <td>0.69</td>\n",
       "      <td>0.15</td>\n",
       "      <td>1</td>\n",
       "    </tr>\n",
       "    <tr>\n",
       "      <th>CaudateL</th>\n",
       "      <td>0.69</td>\n",
       "      <td>0.15</td>\n",
       "      <td>1</td>\n",
       "    </tr>\n",
       "    <tr>\n",
       "      <th>CaudateR</th>\n",
       "      <td>0.69</td>\n",
       "      <td>0.15</td>\n",
       "      <td>1</td>\n",
       "    </tr>\n",
       "    <tr>\n",
       "      <th>HippocampusL</th>\n",
       "      <td>0.63</td>\n",
       "      <td>0.20</td>\n",
       "      <td>1</td>\n",
       "    </tr>\n",
       "    <tr>\n",
       "      <th>HippocampusR</th>\n",
       "      <td>0.63</td>\n",
       "      <td>0.20</td>\n",
       "      <td>1</td>\n",
       "    </tr>\n",
       "    <tr>\n",
       "      <th>PutamenL</th>\n",
       "      <td>0.78</td>\n",
       "      <td>0.15</td>\n",
       "      <td>1</td>\n",
       "    </tr>\n",
       "    <tr>\n",
       "      <th>PutamenR</th>\n",
       "      <td>0.78</td>\n",
       "      <td>0.15</td>\n",
       "      <td>1</td>\n",
       "    </tr>\n",
       "    <tr>\n",
       "      <th>ThalamusL</th>\n",
       "      <td>0.78</td>\n",
       "      <td>0.20</td>\n",
       "      <td>1</td>\n",
       "    </tr>\n",
       "    <tr>\n",
       "      <th>ThalamusR</th>\n",
       "      <td>0.78</td>\n",
       "      <td>0.20</td>\n",
       "      <td>1</td>\n",
       "    </tr>\n",
       "    <tr>\n",
       "      <th>GlobusPallidusL</th>\n",
       "      <td>0.95</td>\n",
       "      <td>0.10</td>\n",
       "      <td>1</td>\n",
       "    </tr>\n",
       "    <tr>\n",
       "      <th>GlobusPallidusR</th>\n",
       "      <td>0.95</td>\n",
       "      <td>0.10</td>\n",
       "      <td>1</td>\n",
       "    </tr>\n",
       "    <tr>\n",
       "      <th>Brainstem</th>\n",
       "      <td>0.93</td>\n",
       "      <td>0.15</td>\n",
       "      <td>1</td>\n",
       "    </tr>\n",
       "    <tr>\n",
       "      <th>Cerebellum-WM</th>\n",
       "      <td>0.92</td>\n",
       "      <td>0.15</td>\n",
       "      <td>1</td>\n",
       "    </tr>\n",
       "    <tr>\n",
       "      <th>Cerebrum-WML</th>\n",
       "      <td>0.93</td>\n",
       "      <td>0.15</td>\n",
       "      <td>1</td>\n",
       "    </tr>\n",
       "    <tr>\n",
       "      <th>Cerebrum-WMR</th>\n",
       "      <td>0.93</td>\n",
       "      <td>0.15</td>\n",
       "      <td>1</td>\n",
       "    </tr>\n",
       "  </tbody>\n",
       "</table>\n",
       "</div>"
      ],
      "text/plain": [
       "                 Median  Spread  Weight\n",
       "Background         0.00    0.10       1\n",
       "Dura               0.50    0.10       1\n",
       "Arteries           0.95    0.10       1\n",
       "Sulcal-CSF         0.18    0.15       1\n",
       "VentricleL         0.23    0.20       1\n",
       "VentricleR         0.23    0.20       1\n",
       "Ventricle3         0.23    0.20       1\n",
       "Ventricle4         0.23    0.20       1\n",
       "ChoroidPlexusL     0.50    0.20       1\n",
       "ChoroidPlexusR     0.50    0.20       1\n",
       "Sinuses            0.50    0.20       1\n",
       "Cerebellum-GM      0.59    0.20       1\n",
       "Cerebrum-GML       0.53    0.20       1\n",
       "Cerebrum-GMR       0.53    0.20       1\n",
       "AmygdalaL          0.69    0.15       1\n",
       "AmygdalaR          0.69    0.15       1\n",
       "CaudateL           0.69    0.15       1\n",
       "CaudateR           0.69    0.15       1\n",
       "HippocampusL       0.63    0.20       1\n",
       "HippocampusR       0.63    0.20       1\n",
       "PutamenL           0.78    0.15       1\n",
       "PutamenR           0.78    0.15       1\n",
       "ThalamusL          0.78    0.20       1\n",
       "ThalamusR          0.78    0.20       1\n",
       "GlobusPallidusL    0.95    0.10       1\n",
       "GlobusPallidusR    0.95    0.10       1\n",
       "Brainstem          0.93    0.15       1\n",
       "Cerebellum-WM      0.92    0.15       1\n",
       "Cerebrum-WML       0.93    0.15       1\n",
       "Cerebrum-WMR       0.93    0.15       1"
      ]
     },
     "execution_count": 374,
     "metadata": {},
     "output_type": "execute_result"
    }
   ],
   "source": [
    "priors"
   ]
  },
  {
   "cell_type": "code",
   "execution_count": 373,
   "metadata": {
    "collapsed": false
   },
   "outputs": [
    {
     "data": {
      "text/html": [
       "<div>\n",
       "<table border=\"1\" class=\"dataframe\">\n",
       "  <thead>\n",
       "    <tr style=\"text-align: right;\">\n",
       "      <th></th>\n",
       "      <th>Index</th>\n",
       "      <th>Type</th>\n",
       "    </tr>\n",
       "  </thead>\n",
       "  <tbody>\n",
       "    <tr>\n",
       "      <th>Background</th>\n",
       "      <td>1</td>\n",
       "      <td>mask</td>\n",
       "    </tr>\n",
       "    <tr>\n",
       "      <th>Dura</th>\n",
       "      <td>50</td>\n",
       "      <td>wm</td>\n",
       "    </tr>\n",
       "    <tr>\n",
       "      <th>Arteries</th>\n",
       "      <td>8</td>\n",
       "      <td>wm</td>\n",
       "    </tr>\n",
       "    <tr>\n",
       "      <th>Sulcal-CSF</th>\n",
       "      <td>10</td>\n",
       "      <td>csf</td>\n",
       "    </tr>\n",
       "    <tr>\n",
       "      <th>VentricleL</th>\n",
       "      <td>11</td>\n",
       "      <td>csf</td>\n",
       "    </tr>\n",
       "    <tr>\n",
       "      <th>VentricleR</th>\n",
       "      <td>12</td>\n",
       "      <td>csf</td>\n",
       "    </tr>\n",
       "    <tr>\n",
       "      <th>Ventricle3</th>\n",
       "      <td>13</td>\n",
       "      <td>csf</td>\n",
       "    </tr>\n",
       "    <tr>\n",
       "      <th>Ventricle4</th>\n",
       "      <td>14</td>\n",
       "      <td>csf</td>\n",
       "    </tr>\n",
       "    <tr>\n",
       "      <th>ChoroidPlexusL</th>\n",
       "      <td>17</td>\n",
       "      <td>gm</td>\n",
       "    </tr>\n",
       "    <tr>\n",
       "      <th>ChoroidPlexusR</th>\n",
       "      <td>18</td>\n",
       "      <td>gm</td>\n",
       "    </tr>\n",
       "    <tr>\n",
       "      <th>Sinuses</th>\n",
       "      <td>20</td>\n",
       "      <td>gm</td>\n",
       "    </tr>\n",
       "    <tr>\n",
       "      <th>Cerebellum-GM</th>\n",
       "      <td>25</td>\n",
       "      <td>gm</td>\n",
       "    </tr>\n",
       "    <tr>\n",
       "      <th>Cerebrum-GML</th>\n",
       "      <td>26</td>\n",
       "      <td>gm</td>\n",
       "    </tr>\n",
       "    <tr>\n",
       "      <th>Cerebrum-GMR</th>\n",
       "      <td>27</td>\n",
       "      <td>gm</td>\n",
       "    </tr>\n",
       "    <tr>\n",
       "      <th>AmygdalaL</th>\n",
       "      <td>30</td>\n",
       "      <td>gm</td>\n",
       "    </tr>\n",
       "    <tr>\n",
       "      <th>AmygdalaR</th>\n",
       "      <td>31</td>\n",
       "      <td>gm</td>\n",
       "    </tr>\n",
       "    <tr>\n",
       "      <th>CaudateL</th>\n",
       "      <td>32</td>\n",
       "      <td>gm</td>\n",
       "    </tr>\n",
       "    <tr>\n",
       "      <th>CaudateR</th>\n",
       "      <td>33</td>\n",
       "      <td>gm</td>\n",
       "    </tr>\n",
       "    <tr>\n",
       "      <th>HippocampusL</th>\n",
       "      <td>34</td>\n",
       "      <td>gm</td>\n",
       "    </tr>\n",
       "    <tr>\n",
       "      <th>HippocampusR</th>\n",
       "      <td>35</td>\n",
       "      <td>gm</td>\n",
       "    </tr>\n",
       "    <tr>\n",
       "      <th>PutamenL</th>\n",
       "      <td>36</td>\n",
       "      <td>gm</td>\n",
       "    </tr>\n",
       "    <tr>\n",
       "      <th>PutamenR</th>\n",
       "      <td>37</td>\n",
       "      <td>gm</td>\n",
       "    </tr>\n",
       "    <tr>\n",
       "      <th>ThalamusL</th>\n",
       "      <td>38</td>\n",
       "      <td>wm</td>\n",
       "    </tr>\n",
       "    <tr>\n",
       "      <th>ThalamusR</th>\n",
       "      <td>39</td>\n",
       "      <td>wm</td>\n",
       "    </tr>\n",
       "    <tr>\n",
       "      <th>GlobusPallidusL</th>\n",
       "      <td>40</td>\n",
       "      <td>wm</td>\n",
       "    </tr>\n",
       "    <tr>\n",
       "      <th>GlobusPallidusR</th>\n",
       "      <td>41</td>\n",
       "      <td>wm</td>\n",
       "    </tr>\n",
       "    <tr>\n",
       "      <th>Brainstem</th>\n",
       "      <td>43</td>\n",
       "      <td>wm</td>\n",
       "    </tr>\n",
       "    <tr>\n",
       "      <th>Cerebellum-WM</th>\n",
       "      <td>46</td>\n",
       "      <td>wm</td>\n",
       "    </tr>\n",
       "    <tr>\n",
       "      <th>Cerebrum-WML</th>\n",
       "      <td>47</td>\n",
       "      <td>wm</td>\n",
       "    </tr>\n",
       "    <tr>\n",
       "      <th>Cerebrum-WMR</th>\n",
       "      <td>48</td>\n",
       "      <td>wm</td>\n",
       "    </tr>\n",
       "  </tbody>\n",
       "</table>\n",
       "</div>"
      ],
      "text/plain": [
       "                 Index  Type\n",
       "Background           1  mask\n",
       "Dura                50    wm\n",
       "Arteries             8    wm\n",
       "Sulcal-CSF          10   csf\n",
       "VentricleL          11   csf\n",
       "VentricleR          12   csf\n",
       "Ventricle3          13   csf\n",
       "Ventricle4          14   csf\n",
       "ChoroidPlexusL      17    gm\n",
       "ChoroidPlexusR      18    gm\n",
       "Sinuses             20    gm\n",
       "Cerebellum-GM       25    gm\n",
       "Cerebrum-GML        26    gm\n",
       "Cerebrum-GMR        27    gm\n",
       "AmygdalaL           30    gm\n",
       "AmygdalaR           31    gm\n",
       "CaudateL            32    gm\n",
       "CaudateR            33    gm\n",
       "HippocampusL        34    gm\n",
       "HippocampusR        35    gm\n",
       "PutamenL            36    gm\n",
       "PutamenR            37    gm\n",
       "ThalamusL           38    wm\n",
       "ThalamusR           39    wm\n",
       "GlobusPallidusL     40    wm\n",
       "GlobusPallidusR     41    wm\n",
       "Brainstem           43    wm\n",
       "Cerebellum-WM       46    wm\n",
       "Cerebrum-WML        47    wm\n",
       "Cerebrum-WMR        48    wm"
      ]
     },
     "execution_count": 373,
     "metadata": {},
     "output_type": "execute_result"
    }
   ],
   "source": [
    "lut"
   ]
  }
 ],
 "metadata": {
  "kernelspec": {
   "display_name": "Python 2",
   "language": "python",
   "name": "python2"
  },
  "language_info": {
   "codemirror_mode": {
    "name": "ipython",
    "version": 2
   },
   "file_extension": ".py",
   "mimetype": "text/x-python",
   "name": "python",
   "nbconvert_exporter": "python",
   "pygments_lexer": "ipython2",
   "version": "2.7.10"
  }
 },
 "nbformat": 4,
 "nbformat_minor": 0
}
